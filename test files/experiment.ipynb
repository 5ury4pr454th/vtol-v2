{
 "cells": [
  {
   "cell_type": "code",
   "execution_count": 11,
   "source": [
    "import numpy as np\r\n",
    "import matplotlib.pyplot as plt\r\n",
    "from signal_gen import SignalGenerator"
   ],
   "outputs": [],
   "metadata": {}
  },
  {
   "cell_type": "markdown",
   "source": [
    "## **Testing Signal Generator**"
   ],
   "metadata": {}
  },
  {
   "cell_type": "code",
   "execution_count": 34,
   "source": [
    "frequency = 0.30\r\n",
    "amplitude = 1.00\r\n",
    "y_offset = 0.0\r\n",
    "\r\n",
    "signal_1 = SignalGenerator(amplitude, frequency, y_offset)"
   ],
   "outputs": [],
   "metadata": {}
  },
  {
   "cell_type": "code",
   "execution_count": 35,
   "source": [
    "%matplotlib\r\n",
    "timeline = np.linspace(-10, 10, 500)\r\n",
    "y = np.array(list(map(signal_1.sawtooth, timeline)))\r\n",
    "\r\n",
    "# plotting\r\n",
    "plt.figure(figsize = (8, 8))\r\n",
    "ax = plt.subplot()\r\n",
    "ax.plot(timeline, np.zeros_like(timeline), '--', linewidth = 2)\r\n",
    "ax.plot(np.zeros_like(timeline), timeline, '--', linewidth = 2)\r\n",
    "ax.set_xlim((-10,10))\r\n",
    "ax.set_ylim((-2,2))\r\n",
    "plt.plot(timeline, y)"
   ],
   "outputs": [
    {
     "output_type": "stream",
     "name": "stdout",
     "text": [
      "Using matplotlib backend: Qt5Agg\n"
     ]
    },
    {
     "output_type": "execute_result",
     "data": {
      "text/plain": [
       "[<matplotlib.lines.Line2D at 0x12d4f2bad30>]"
      ]
     },
     "metadata": {},
     "execution_count": 35
    }
   ],
   "metadata": {}
  }
 ],
 "metadata": {
  "orig_nbformat": 4,
  "language_info": {
   "name": "python",
   "version": "3.8.11",
   "mimetype": "text/x-python",
   "codemirror_mode": {
    "name": "ipython",
    "version": 3
   },
   "pygments_lexer": "ipython3",
   "nbconvert_exporter": "python",
   "file_extension": ".py"
  },
  "kernelspec": {
   "name": "python3",
   "display_name": "Python 3.8.11 64-bit ('sandbox': conda)"
  },
  "interpreter": {
   "hash": "27dfbc00512ccf8fec89b6e80bc47b5a28e3aad499376fb5c4e274b8bc22ddb4"
  }
 },
 "nbformat": 4,
 "nbformat_minor": 2
}